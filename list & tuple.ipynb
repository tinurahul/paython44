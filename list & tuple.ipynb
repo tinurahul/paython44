{
 "cells": [
  {
   "cell_type": "code",
   "execution_count": 1,
   "id": "7a6e7d5c",
   "metadata": {},
   "outputs": [],
   "source": [
    "a = [10,5,20,30,15]"
   ]
  },
  {
   "cell_type": "code",
   "execution_count": 2,
   "id": "d57a5498",
   "metadata": {},
   "outputs": [],
   "source": [
    "a.sort()"
   ]
  },
  {
   "cell_type": "code",
   "execution_count": 3,
   "id": "204768ae",
   "metadata": {},
   "outputs": [
    {
     "data": {
      "text/plain": [
       "[5, 10, 15, 20, 30]"
      ]
     },
     "execution_count": 3,
     "metadata": {},
     "output_type": "execute_result"
    }
   ],
   "source": [
    "a"
   ]
  },
  {
   "cell_type": "code",
   "execution_count": 9,
   "id": "5c871149",
   "metadata": {},
   "outputs": [],
   "source": [
    "a.sort(reverse=True)"
   ]
  },
  {
   "cell_type": "code",
   "execution_count": 10,
   "id": "d26ebb75",
   "metadata": {},
   "outputs": [
    {
     "data": {
      "text/plain": [
       "[30, 20, 15, 10, 5]"
      ]
     },
     "execution_count": 10,
     "metadata": {},
     "output_type": "execute_result"
    }
   ],
   "source": [
    "a"
   ]
  },
  {
   "cell_type": "code",
   "execution_count": 7,
   "id": "42993d6a",
   "metadata": {},
   "outputs": [
    {
     "data": {
      "text/plain": [
       "[5, 10, 15, 20, 30]"
      ]
     },
     "execution_count": 7,
     "metadata": {},
     "output_type": "execute_result"
    }
   ],
   "source": [
    "a"
   ]
  },
  {
   "cell_type": "code",
   "execution_count": 12,
   "id": "f594ff7a",
   "metadata": {},
   "outputs": [],
   "source": [
    "a = [23,654,34,[100,300,555,[23,65,34,[76,54,[45,75],65],7867,86,46],76,]]"
   ]
  },
  {
   "cell_type": "code",
   "execution_count": 13,
   "id": "9f6ff752",
   "metadata": {},
   "outputs": [
    {
     "data": {
      "text/plain": [
       "4"
      ]
     },
     "execution_count": 13,
     "metadata": {},
     "output_type": "execute_result"
    }
   ],
   "source": [
    "len(a)"
   ]
  },
  {
   "cell_type": "code",
   "execution_count": 14,
   "id": "62cc2763",
   "metadata": {},
   "outputs": [
    {
     "data": {
      "text/plain": [
       "555"
      ]
     },
     "execution_count": 14,
     "metadata": {},
     "output_type": "execute_result"
    }
   ],
   "source": [
    "a[3][2]"
   ]
  },
  {
   "cell_type": "code",
   "execution_count": 15,
   "id": "6c84098f",
   "metadata": {},
   "outputs": [
    {
     "data": {
      "text/plain": [
       "65"
      ]
     },
     "execution_count": 15,
     "metadata": {},
     "output_type": "execute_result"
    }
   ],
   "source": [
    "a[3][3][1]"
   ]
  },
  {
   "cell_type": "code",
   "execution_count": 19,
   "id": "5cfe9894",
   "metadata": {},
   "outputs": [
    {
     "data": {
      "text/plain": [
       "76"
      ]
     },
     "execution_count": 19,
     "metadata": {},
     "output_type": "execute_result"
    }
   ],
   "source": [
    "a[3][4]"
   ]
  },
  {
   "cell_type": "code",
   "execution_count": 22,
   "id": "70bd5833",
   "metadata": {},
   "outputs": [
    {
     "data": {
      "text/plain": [
       "86"
      ]
     },
     "execution_count": 22,
     "metadata": {},
     "output_type": "execute_result"
    }
   ],
   "source": [
    "a[3][3][5]\n"
   ]
  },
  {
   "cell_type": "code",
   "execution_count": 2,
   "id": "4009b60b",
   "metadata": {},
   "outputs": [],
   "source": [
    "#Tuple"
   ]
  },
  {
   "cell_type": "code",
   "execution_count": 3,
   "id": "eeceaf8f",
   "metadata": {},
   "outputs": [],
   "source": [
    "p1 = (10,20,30,40)"
   ]
  },
  {
   "cell_type": "code",
   "execution_count": 4,
   "id": "ab71503f",
   "metadata": {},
   "outputs": [
    {
     "data": {
      "text/plain": [
       "tuple"
      ]
     },
     "execution_count": 4,
     "metadata": {},
     "output_type": "execute_result"
    }
   ],
   "source": [
    "type(p1)"
   ]
  },
  {
   "cell_type": "code",
   "execution_count": 6,
   "id": "6e9ae533",
   "metadata": {},
   "outputs": [
    {
     "data": {
      "text/plain": [
       "1"
      ]
     },
     "execution_count": 6,
     "metadata": {},
     "output_type": "execute_result"
    }
   ],
   "source": [
    "p1.count(40)"
   ]
  },
  {
   "cell_type": "code",
   "execution_count": 8,
   "id": "43ca244c",
   "metadata": {},
   "outputs": [
    {
     "data": {
      "text/plain": [
       "3"
      ]
     },
     "execution_count": 8,
     "metadata": {},
     "output_type": "execute_result"
    }
   ],
   "source": [
    "p1.index(40)"
   ]
  },
  {
   "cell_type": "code",
   "execution_count": 9,
   "id": "f1ae1d63",
   "metadata": {},
   "outputs": [],
   "source": [
    "# Revision"
   ]
  },
  {
   "cell_type": "code",
   "execution_count": 10,
   "id": "05548ede",
   "metadata": {},
   "outputs": [
    {
     "name": "stderr",
     "output_type": "stream",
     "text": [
      "<>:2: SyntaxWarning: invalid decimal literal\n",
      "<>:2: SyntaxWarning: invalid decimal literal\n",
      "C:\\Users\\kavit\\AppData\\Local\\Temp\\ipykernel_23312\\598344628.py:2: SyntaxWarning: invalid decimal literal\n",
      "  1.integer- complete number is integer i.e 10,20,30\n"
     ]
    },
    {
     "ename": "SyntaxError",
     "evalue": "invalid decimal literal (598344628.py, line 3)",
     "output_type": "error",
     "traceback": [
      "\u001b[1;36m  Cell \u001b[1;32mIn[10], line 3\u001b[1;36m\u001b[0m\n\u001b[1;33m    2.float- incomplete or decemel no is know as float i.e 10.5,20.5\u001b[0m\n\u001b[1;37m     ^\u001b[0m\n\u001b[1;31mSyntaxError\u001b[0m\u001b[1;31m:\u001b[0m invalid decimal literal\n"
     ]
    }
   ],
   "source": [
    "# Data Types\n",
    "1.integer- complete number is integer i.e 10,20,30\n",
    "2.float- incomplete or decemel no is know as float i.e 10.5,20.5\n",
    "3.str - character is known as stringe i.e 'ram', 'rahul'\n",
    "4.bool- True or False known as bool\n",
    "5.none - none is blank\n",
    "6.complax- 10+2j number and number with character is complax form"
   ]
  },
  {
   "cell_type": "code",
   "execution_count": 12,
   "id": "e496b08e",
   "metadata": {},
   "outputs": [],
   "source": [
    "#Variable"
   ]
  },
  {
   "cell_type": "code",
   "execution_count": 17,
   "id": "0bbf389a",
   "metadata": {},
   "outputs": [],
   "source": [
    "# a-z,A-Z,0-9,emp_tcs memory location identification is known as variable i.e a=10 is 10 is integer in variable a"
   ]
  },
  {
   "cell_type": "code",
   "execution_count": 14,
   "id": "457c4229",
   "metadata": {},
   "outputs": [],
   "source": [
    "a = 10"
   ]
  },
  {
   "cell_type": "code",
   "execution_count": 15,
   "id": "813e1cc0",
   "metadata": {},
   "outputs": [
    {
     "data": {
      "text/plain": [
       "int"
      ]
     },
     "execution_count": 15,
     "metadata": {},
     "output_type": "execute_result"
    }
   ],
   "source": [
    "type(a)"
   ]
  },
  {
   "cell_type": "code",
   "execution_count": 20,
   "id": "a95ec9aa",
   "metadata": {},
   "outputs": [],
   "source": [
    "c = 10.5 "
   ]
  },
  {
   "cell_type": "code",
   "execution_count": 21,
   "id": "cbdd0431",
   "metadata": {},
   "outputs": [
    {
     "data": {
      "text/plain": [
       "float"
      ]
     },
     "execution_count": 21,
     "metadata": {},
     "output_type": "execute_result"
    }
   ],
   "source": [
    "type(c)"
   ]
  },
  {
   "cell_type": "code",
   "execution_count": 22,
   "id": "0b925a2e",
   "metadata": {},
   "outputs": [],
   "source": [
    "d = 'ram'"
   ]
  },
  {
   "cell_type": "code",
   "execution_count": 23,
   "id": "53723e03",
   "metadata": {},
   "outputs": [
    {
     "data": {
      "text/plain": [
       "str"
      ]
     },
     "execution_count": 23,
     "metadata": {},
     "output_type": "execute_result"
    }
   ],
   "source": [
    "type(d)"
   ]
  },
  {
   "cell_type": "code",
   "execution_count": 24,
   "id": "7bcb4a3b",
   "metadata": {},
   "outputs": [],
   "source": [
    "e = 10+2j"
   ]
  },
  {
   "cell_type": "code",
   "execution_count": 25,
   "id": "41cb6d84",
   "metadata": {},
   "outputs": [
    {
     "data": {
      "text/plain": [
       "complex"
      ]
     },
     "execution_count": 25,
     "metadata": {},
     "output_type": "execute_result"
    }
   ],
   "source": [
    "type(e)"
   ]
  },
  {
   "cell_type": "code",
   "execution_count": 26,
   "id": "c1080f50",
   "metadata": {},
   "outputs": [],
   "source": [
    "f = True"
   ]
  },
  {
   "cell_type": "code",
   "execution_count": 27,
   "id": "c82a1655",
   "metadata": {},
   "outputs": [
    {
     "data": {
      "text/plain": [
       "bool"
      ]
     },
     "execution_count": 27,
     "metadata": {},
     "output_type": "execute_result"
    }
   ],
   "source": [
    "type(f)"
   ]
  },
  {
   "cell_type": "code",
   "execution_count": 29,
   "id": "ed9d30af",
   "metadata": {},
   "outputs": [
    {
     "ename": "SyntaxError",
     "evalue": "invalid decimal literal (2404083793.py, line 8)",
     "output_type": "error",
     "traceback": [
      "\u001b[1;36m  Cell \u001b[1;32mIn[29], line 8\u001b[1;36m\u001b[0m\n\u001b[1;33m    1.set 2.Tulp 3. frozenset\u001b[0m\n\u001b[1;37m     ^\u001b[0m\n\u001b[1;31mSyntaxError\u001b[0m\u001b[1;31m:\u001b[0m invalid decimal literal\n"
     ]
    }
   ],
   "source": [
    "# Data Structure\n",
    "1. List\n",
    "a.insert(index,element) b. append(element) c. extand([multiple elements])\n",
    "Deletion- d. remove e. clear f. pop\n",
    "g. sort() h.reverse()\n",
    "\n",
    "imutable\n",
    "1.set 2.Tulp 3. frozenset"
   ]
  },
  {
   "cell_type": "code",
   "execution_count": 30,
   "id": "5ca01d0d",
   "metadata": {},
   "outputs": [],
   "source": [
    "# list- collection of data is know as list and it is indicate by [] i.e a = []"
   ]
  },
  {
   "cell_type": "code",
   "execution_count": 31,
   "id": "042bedf9",
   "metadata": {},
   "outputs": [],
   "source": [
    "emp = ['ram','shyam']"
   ]
  },
  {
   "cell_type": "code",
   "execution_count": 32,
   "id": "b2569094",
   "metadata": {},
   "outputs": [
    {
     "data": {
      "text/plain": [
       "list"
      ]
     },
     "execution_count": 32,
     "metadata": {},
     "output_type": "execute_result"
    }
   ],
   "source": [
    "type(emp)"
   ]
  },
  {
   "cell_type": "code",
   "execution_count": 33,
   "id": "f37f4237",
   "metadata": {},
   "outputs": [
    {
     "data": {
      "text/plain": [
       "['ram', 'shyam']"
      ]
     },
     "execution_count": 33,
     "metadata": {},
     "output_type": "execute_result"
    }
   ],
   "source": [
    "emp"
   ]
  },
  {
   "cell_type": "code",
   "execution_count": 34,
   "id": "8a8366cd",
   "metadata": {},
   "outputs": [],
   "source": [
    "# insert"
   ]
  },
  {
   "cell_type": "code",
   "execution_count": 35,
   "id": "3a3ef30f",
   "metadata": {},
   "outputs": [],
   "source": [
    "emp.insert(1,10)"
   ]
  },
  {
   "cell_type": "code",
   "execution_count": 36,
   "id": "e2e1ea7e",
   "metadata": {},
   "outputs": [
    {
     "data": {
      "text/plain": [
       "['ram', 10, 'shyam']"
      ]
     },
     "execution_count": 36,
     "metadata": {},
     "output_type": "execute_result"
    }
   ],
   "source": [
    "emp"
   ]
  },
  {
   "cell_type": "code",
   "execution_count": 37,
   "id": "727271fe",
   "metadata": {},
   "outputs": [],
   "source": [
    "#append"
   ]
  },
  {
   "cell_type": "code",
   "execution_count": null,
   "id": "a59b33f7",
   "metadata": {},
   "outputs": [],
   "source": [
    "emp.append('rahul')"
   ]
  }
 ],
 "metadata": {
  "kernelspec": {
   "display_name": "Python 3 (ipykernel)",
   "language": "python",
   "name": "python3"
  },
  "language_info": {
   "codemirror_mode": {
    "name": "ipython",
    "version": 3
   },
   "file_extension": ".py",
   "mimetype": "text/x-python",
   "name": "python",
   "nbconvert_exporter": "python",
   "pygments_lexer": "ipython3",
   "version": "3.11.5"
  }
 },
 "nbformat": 4,
 "nbformat_minor": 5
}
