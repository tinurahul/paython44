{
 "cells": [
  {
   "cell_type": "code",
   "execution_count": 23,
   "id": "2b8bfdb7",
   "metadata": {},
   "outputs": [
    {
     "name": "stdout",
     "output_type": "stream",
     "text": [
      "*****Welcome To Phe Bill Verification Portal*****\n",
      "Enter RA Bill No:3\n",
      "Mb Received from  Block level[yes/no]:yes\n",
      "Mb filled by Subengineer[yes/no]:yes\n",
      "Mb sign by Subengineer[yes/no]:yes\n",
      "RA Bill Amount and Documents checked by Block level Babu and Mb forwarded to AE Sir[yes/no]:yes\n",
      "RA Bill Amount demand latter sign by AE sir forwarded from block level to division level[yes/no]:yes\n",
      "Mb sign by AE Sir[yes/no]:yes\n",
      "RA Bill Amount and Documents checked by Divisional level block babu and Mb forwarded to divisional babu Sir[yes/no]:yes\n",
      "Mb forwarded from Divisional level Babu to DA sir[yes/no]:yes\n",
      "Mb sign by DA sir[yes/no]:yes\n",
      "Mb sign by EE sir[yes/no]:yes\n",
      "Amount Process from Account department[yes/no]:yes\n",
      "Amount Received by Firm[yes/no]:yes\n",
      "*****Payment of RA Bill No:3 is Done from Department to Firm*****\n",
      "*****Thanks for Waiting Verification Process*****\n"
     ]
    }
   ],
   "source": [
    "print(\"*****Welcome To Phe Bill Verification Portal*****\")\n",
    "ra_bill_no=int(input(\"Enter RA Bill No:\"))\n",
    "mb_status=input(\"Mb Received from  Block level[yes/no]:\")\n",
    "mb_fill=input(\"Mb filled by Subengineer[yes/no]:\")\n",
    "mb_sign=input(\"Mb sign by Subengineer[yes/no]:\")\n",
    "mb_blockbabu=input(\"RA Bill Amount and Documents checked by Block level Babu and Mb forwarded to AE Sir[yes/no]:\")\n",
    "fund_demand_letter=input(\"RA Bill Amount demand latter sign by AE sir forwarded from block level to division level[yes/no]:\")\n",
    "mb_aesir_sign=input(\"Mb sign by AE Sir[yes/no]:\")\n",
    "mb_division_blockbabu=input(\"RA Bill Amount and Documents checked by Divisional level block babu and Mb forwarded to divisional babu Sir[yes/no]:\")\n",
    "mb_division_babu=input(\"Mb forwarded from Divisional level Babu to DA sir[yes/no]:\")\n",
    "mb_dasir=input(\"Mb sign by DA sir[yes/no]:\")\n",
    "mb_eesir=input(\"Mb sign by EE sir[yes/no]:\")\n",
    "amount_process=input(\"Amount Process from Account department[yes/no]:\")\n",
    "amount_received=input(\"Amount Received by Firm[yes/no]:\")\n",
    "\n",
    "if ra_bill_no==ra_bill_no and mb_status=='yes' and mb_fill=='yes' and mb_sign=='yes' and mb_blockbabu=='yes' and fund_demand_letter=='yes' and mb_aesir_sign=='yes' and  mb_division_blockbabu=='yes' and mb_division_babu=='yes' and mb_dasir=='yes' and mb_eesir=='yes' and amount_process=='yes' and amount_received=='yes':\n",
    "    print(f\"*****Payment of RA Bill No:{ra_bill_no} is Done from Department to Firm*****\")\n",
    "    print(\"*****Thanks for Waiting Verification Process*****\")\n",
    "else:\n",
    "    print(f\"********RA Bill No.{ra_bill_no} is Pending Due to Some Bill Verification Process Pending********\")  \n",
    "   \n",
    "   \n"
   ]
  },
  {
   "cell_type": "code",
   "execution_count": 1,
   "id": "ac875975",
   "metadata": {},
   "outputs": [
    {
     "ename": "KeyboardInterrupt",
     "evalue": "Interrupted by user",
     "output_type": "error",
     "traceback": [
      "\u001b[1;31m---------------------------------------------------------------------------\u001b[0m",
      "\u001b[1;31mKeyboardInterrupt\u001b[0m                         Traceback (most recent call last)",
      "Cell \u001b[1;32mIn[1], line 1\u001b[0m\n\u001b[1;32m----> 1\u001b[0m gross\u001b[38;5;241m=\u001b[39m \u001b[38;5;28mint\u001b[39m(\u001b[38;5;28minput\u001b[39m(\u001b[38;5;124m\"\u001b[39m\u001b[38;5;124menter amount:\u001b[39m\u001b[38;5;124m\"\u001b[39m))\n\u001b[0;32m      2\u001b[0m net\u001b[38;5;241m=\u001b[39m(gross\u001b[38;5;241m/\u001b[39m\u001b[38;5;241m100\u001b[39m)\u001b[38;5;241m*\u001b[39m\u001b[38;5;241m28\u001b[39m\n\u001b[0;32m      3\u001b[0m deduction\u001b[38;5;241m=\u001b[39mgross\u001b[38;5;241m-\u001b[39mnet\n",
      "File \u001b[1;32m~\\anaconda3\\Lib\\site-packages\\ipykernel\\kernelbase.py:1202\u001b[0m, in \u001b[0;36mKernel.raw_input\u001b[1;34m(self, prompt)\u001b[0m\n\u001b[0;32m   1200\u001b[0m     msg \u001b[38;5;241m=\u001b[39m \u001b[38;5;124m\"\u001b[39m\u001b[38;5;124mraw_input was called, but this frontend does not support input requests.\u001b[39m\u001b[38;5;124m\"\u001b[39m\n\u001b[0;32m   1201\u001b[0m     \u001b[38;5;28;01mraise\u001b[39;00m StdinNotImplementedError(msg)\n\u001b[1;32m-> 1202\u001b[0m \u001b[38;5;28;01mreturn\u001b[39;00m \u001b[38;5;28mself\u001b[39m\u001b[38;5;241m.\u001b[39m_input_request(\n\u001b[0;32m   1203\u001b[0m     \u001b[38;5;28mstr\u001b[39m(prompt),\n\u001b[0;32m   1204\u001b[0m     \u001b[38;5;28mself\u001b[39m\u001b[38;5;241m.\u001b[39m_parent_ident[\u001b[38;5;124m\"\u001b[39m\u001b[38;5;124mshell\u001b[39m\u001b[38;5;124m\"\u001b[39m],\n\u001b[0;32m   1205\u001b[0m     \u001b[38;5;28mself\u001b[39m\u001b[38;5;241m.\u001b[39mget_parent(\u001b[38;5;124m\"\u001b[39m\u001b[38;5;124mshell\u001b[39m\u001b[38;5;124m\"\u001b[39m),\n\u001b[0;32m   1206\u001b[0m     password\u001b[38;5;241m=\u001b[39m\u001b[38;5;28;01mFalse\u001b[39;00m,\n\u001b[0;32m   1207\u001b[0m )\n",
      "File \u001b[1;32m~\\anaconda3\\Lib\\site-packages\\ipykernel\\kernelbase.py:1245\u001b[0m, in \u001b[0;36mKernel._input_request\u001b[1;34m(self, prompt, ident, parent, password)\u001b[0m\n\u001b[0;32m   1242\u001b[0m \u001b[38;5;28;01mexcept\u001b[39;00m \u001b[38;5;167;01mKeyboardInterrupt\u001b[39;00m:\n\u001b[0;32m   1243\u001b[0m     \u001b[38;5;66;03m# re-raise KeyboardInterrupt, to truncate traceback\u001b[39;00m\n\u001b[0;32m   1244\u001b[0m     msg \u001b[38;5;241m=\u001b[39m \u001b[38;5;124m\"\u001b[39m\u001b[38;5;124mInterrupted by user\u001b[39m\u001b[38;5;124m\"\u001b[39m\n\u001b[1;32m-> 1245\u001b[0m     \u001b[38;5;28;01mraise\u001b[39;00m \u001b[38;5;167;01mKeyboardInterrupt\u001b[39;00m(msg) \u001b[38;5;28;01mfrom\u001b[39;00m \u001b[38;5;28;01mNone\u001b[39;00m\n\u001b[0;32m   1246\u001b[0m \u001b[38;5;28;01mexcept\u001b[39;00m \u001b[38;5;167;01mException\u001b[39;00m:\n\u001b[0;32m   1247\u001b[0m     \u001b[38;5;28mself\u001b[39m\u001b[38;5;241m.\u001b[39mlog\u001b[38;5;241m.\u001b[39mwarning(\u001b[38;5;124m\"\u001b[39m\u001b[38;5;124mInvalid Message:\u001b[39m\u001b[38;5;124m\"\u001b[39m, exc_info\u001b[38;5;241m=\u001b[39m\u001b[38;5;28;01mTrue\u001b[39;00m)\n",
      "\u001b[1;31mKeyboardInterrupt\u001b[0m: Interrupted by user"
     ]
    }
   ],
   "source": [
    "gross= int(input(\"enter amount:\"))\n",
    "net=(gross/100)*28\n",
    "deduction=gross-net\n",
    "pc=deduction*0.0075\n",
    "if pc==pc:\n",
    "    print(f\" PC amount of firm is : {pc}\")\n",
    "\n",
    "    \n"
   ]
  },
  {
   "cell_type": "code",
   "execution_count": 8,
   "id": "b17c1be3",
   "metadata": {},
   "outputs": [
    {
     "ename": "NameError",
     "evalue": "name 'percentage_received60' is not defined",
     "output_type": "error",
     "traceback": [
      "\u001b[1;31m---------------------------------------------------------------------------\u001b[0m",
      "\u001b[1;31mNameError\u001b[0m                                 Traceback (most recent call last)",
      "Cell \u001b[1;32mIn[8], line 8\u001b[0m\n\u001b[0;32m      5\u001b[0m checkamount90\u001b[38;5;241m==\u001b[39mpcamount\u001b[38;5;241m/\u001b[39mdeal90\n\u001b[0;32m      6\u001b[0m checkamount1\u001b[38;5;241m==\u001b[39mpcamount\u001b[38;5;241m/\u001b[39mdeal1\n\u001b[1;32m----> 8\u001b[0m percentage_received60\u001b[38;5;241m==\u001b[39mcheckamount60\u001b[38;5;241m/\u001b[39mgrossamount\n\u001b[0;32m      9\u001b[0m percentage_received70\u001b[38;5;241m==\u001b[39mcheckamount70\u001b[38;5;241m/\u001b[39mgrossamount\n\u001b[0;32m     10\u001b[0m percentage_received75\u001b[38;5;241m==\u001b[39mcheckamount75\u001b[38;5;241m/\u001b[39mgrossamount\n",
      "\u001b[1;31mNameError\u001b[0m: name 'percentage_received60' is not defined"
     ]
    }
   ],
   "source": [
    "checkamount60==pcamount/deal60\n",
    "checkamount70==pcamount/deal70\n",
    "checkamount75==pcamount/deal75\n",
    "checkamount80==pcamount/deal80\n",
    "checkamount90==pcamount/deal90\n",
    "checkamount1==pcamount/deal1\n",
    "\n",
    "percentage_received60==checkamount60/grossamount\n",
    "percentage_received70==checkamount70/grossamount\n",
    "percentage_received75==checkamount75/grossamount\n",
    "percentage_received80==checkamount80/grossamount\n",
    "percentage_received90==checkamount90/grossamount\n",
    "percentage_received1==checkamount1/grossamount\n",
    "\n",
    "pcamount=int(input(\"Enter Given PC Amount by Contractor: \"))\n",
    "grossamount=int(input(\"Enter gross amount:\"))\n",
    "checkamount50==(pcamount/0.005)\n",
    "percentage_received50==checkamount50/grossamount\n",
    "deduction50=100-percentage_received50\n",
    "if deduction50==deduction50:\n",
    "    print(f\"total gross amount is: {grossamount} \")\n",
    "    print(f\"check amount received is:{checkamount50}\")\n",
    "    print(f\"Total deduction is :{deduction50}\")\n",
    "else:\n",
    "    print(\"not correct\")\n"
   ]
  },
  {
   "cell_type": "code",
   "execution_count": 26,
   "id": "38025093",
   "metadata": {},
   "outputs": [],
   "source": [
    "def PcFirm28():\n",
    "    gross= int(input(\"enter gross amount:\"))\n",
    "    net=(gross/100)*38\n",
    "    deduction=gross-net\n",
    "    pc=deduction*0.0075\n",
    "    result=pc\n",
    "    print(f\" PC amount of firm is : {result}\")"
   ]
  },
  {
   "cell_type": "code",
   "execution_count": 27,
   "id": "5f675170",
   "metadata": {},
   "outputs": [
    {
     "name": "stdout",
     "output_type": "stream",
     "text": [
      "enter gross amount:2500000\n",
      " PC amount of firm is : 11625.0\n"
     ]
    }
   ],
   "source": [
    "PcFirm28()"
   ]
  },
  {
   "cell_type": "code",
   "execution_count": 28,
   "id": "3d0cca8b",
   "metadata": {},
   "outputs": [],
   "source": [
    "def PcFirm33():\n",
    "    gross= int(input(\"enter gross amount:\"))\n",
    "    net=(gross/100)*38\n",
    "    deduction=gross-net\n",
    "    pc=deduction*0.0075\n",
    "    result=pc\n",
    "    print(f\" PC amount of firm is : {result}\")"
   ]
  },
  {
   "cell_type": "code",
   "execution_count": 29,
   "id": "eed874e4",
   "metadata": {},
   "outputs": [],
   "source": [
    "def PcFirm38():\n",
    "    gross= int(input(\"enter gross amount:\"))\n",
    "    net=(gross/100)*38\n",
    "    deduction=gross-net\n",
    "    pc=deduction*0.0075\n",
    "    result=pc\n",
    "    print(f\" PC amount of firm is : {result}\")"
   ]
  },
  {
   "cell_type": "code",
   "execution_count": 31,
   "id": "be98e003",
   "metadata": {},
   "outputs": [],
   "source": [
    "def PcFirm43():\n",
    "    gross= int(input(\"enter gross amount:\"))\n",
    "    net=(gross/100)*38\n",
    "    deduction=gross-net\n",
    "    pc=deduction*0.0075\n",
    "    result=pc\n",
    "    print(f\" PC amount of firm is : {result}\")"
   ]
  },
  {
   "cell_type": "code",
   "execution_count": 32,
   "id": "94411611",
   "metadata": {},
   "outputs": [],
   "source": [
    "def PcRahuljaiswal():\n",
    "    gross= int(input(\"enter gross amount:\"))\n",
    "    net=(gross/100)*28\n",
    "    deduction=gross-net\n",
    "    pc=deduction*0.005\n",
    "    result=pc\n",
    "    print(f\" PC amount of firm is : {result}\")"
   ]
  },
  {
   "cell_type": "code",
   "execution_count": 33,
   "id": "740ec83b",
   "metadata": {},
   "outputs": [
    {
     "name": "stdout",
     "output_type": "stream",
     "text": [
      "enter gross amount:14817642\n",
      " PC amount of firm is : 53343.5112\n"
     ]
    }
   ],
   "source": [
    "PcRahuljaiswal()"
   ]
  },
  {
   "cell_type": "code",
   "execution_count": 34,
   "id": "b84dc0ed",
   "metadata": {},
   "outputs": [],
   "source": [
    "def Yogi():\n",
    "    gross= int(input(\"enter gross amount:\"))\n",
    "    net=(gross/100)*28\n",
    "    deduction=gross-net\n",
    "    pc=deduction*0.008\n",
    "    result=pc\n",
    "    print(f\" PC amount of firm is : {result}\")"
   ]
  },
  {
   "cell_type": "code",
   "execution_count": 6,
   "id": "319fcf82",
   "metadata": {},
   "outputs": [],
   "source": [
    "def Yogi1():\n",
    "    gross= int(input(\"enter gross amount:\"))\n",
    "    net=(gross/100)*33\n",
    "    deduction=gross-net\n",
    "    pc=deduction*0.008\n",
    "    result=pc\n",
    "    print(f\" PC amount of firm is : {result}\")"
   ]
  },
  {
   "cell_type": "code",
   "execution_count": 36,
   "id": "dfd7576b",
   "metadata": {},
   "outputs": [],
   "source": [
    "def Urvish():\n",
    "    gross= int(input(\"enter gross amount:\"))\n",
    "    net=(gross/100)*28\n",
    "    deduction=gross-net\n",
    "    pc=deduction*0.007\n",
    "    result=pc\n",
    "    print(f\" PC amount of firm is : {result}\")"
   ]
  },
  {
   "cell_type": "code",
   "execution_count": 37,
   "id": "fce6cfb7",
   "metadata": {},
   "outputs": [],
   "source": [
    "def Urvish1():\n",
    "    gross= int(input(\"enter gross amount:\"))\n",
    "    net=(gross/100)*33\n",
    "    deduction=gross-net\n",
    "    pc=deduction*0.007\n",
    "    result=pc\n",
    "    print(f\" PC amount of firm is : {result}\")"
   ]
  },
  {
   "cell_type": "code",
   "execution_count": 38,
   "id": "25240ebf",
   "metadata": {},
   "outputs": [
    {
     "name": "stdout",
     "output_type": "stream",
     "text": [
      "enter gross amount:12996456\n",
      " PC amount of firm is : 60953.378639999995\n"
     ]
    }
   ],
   "source": [
    "Urvish1()\n"
   ]
  },
  {
   "cell_type": "code",
   "execution_count": 39,
   "id": "63566383",
   "metadata": {},
   "outputs": [
    {
     "name": "stdout",
     "output_type": "stream",
     "text": [
      "enter gross amount:11611441\n",
      " PC amount of firm is : 58521.662639999995\n"
     ]
    }
   ],
   "source": [
    "Urvish()\n"
   ]
  },
  {
   "cell_type": "code",
   "execution_count": 40,
   "id": "824fd016",
   "metadata": {},
   "outputs": [
    {
     "name": "stdout",
     "output_type": "stream",
     "text": [
      "enter gross amount:13471939\n",
      " PC amount of firm is : 72209.59303999999\n"
     ]
    }
   ],
   "source": [
    "Yogi1()"
   ]
  },
  {
   "cell_type": "code",
   "execution_count": 97,
   "id": "a2900233",
   "metadata": {},
   "outputs": [],
   "source": [
    "def Navadiya():\n",
    "    gross= int(input(\"enter gross amount:\"))\n",
    "    net=(gross/100)*28\n",
    "    deduction=gross-net\n",
    "    pc=deduction*0.0075\n",
    "    result=pc\n",
    "    print(f\" PC amount of firm is : {result}\")"
   ]
  },
  {
   "cell_type": "code",
   "execution_count": 96,
   "id": "590a3ffb",
   "metadata": {},
   "outputs": [],
   "source": [
    "def Navadiya1():\n",
    "    gross= int(input(\"enter gross amount:\"))\n",
    "    net=(gross/100)*33\n",
    "    deduction=gross-net\n",
    "    pc=deduction*0.0075\n",
    "    result=pc\n",
    "    print(f\" PC amount of firm is : {result}\")"
   ]
  },
  {
   "cell_type": "code",
   "execution_count": 46,
   "id": "1b12a462",
   "metadata": {},
   "outputs": [],
   "source": [
    "def Shiriram():\n",
    "    gross= int(input(\"enter gross amount:\"))\n",
    "    net=(gross/100)*28\n",
    "    deduction=gross-net\n",
    "    pc=deduction*0.007\n",
    "    result=pc\n",
    "    print(f\" PC amount of firm is : {result}\")"
   ]
  },
  {
   "cell_type": "code",
   "execution_count": 47,
   "id": "a3df0460",
   "metadata": {},
   "outputs": [],
   "source": [
    "def Shiriram1():\n",
    "    gross= int(input(\"enter gross amount:\"))\n",
    "    net=(gross/100)*33\n",
    "    deduction=gross-net\n",
    "    pc=deduction*0.007\n",
    "    result=pc\n",
    "    print(f\" PC amount of firm is : {result}\")"
   ]
  },
  {
   "cell_type": "code",
   "execution_count": 48,
   "id": "fb36d465",
   "metadata": {},
   "outputs": [
    {
     "name": "stdout",
     "output_type": "stream",
     "text": [
      "enter gross amount:8495918\n",
      " PC amount of firm is : 39845.85542000001\n"
     ]
    }
   ],
   "source": [
    "Shiriram1()"
   ]
  },
  {
   "cell_type": "code",
   "execution_count": 49,
   "id": "c63fd50d",
   "metadata": {},
   "outputs": [
    {
     "name": "stdout",
     "output_type": "stream",
     "text": [
      "enter gross amount:34027058\n",
      " PC amount of firm is : 182385.03088\n"
     ]
    }
   ],
   "source": [
    "Yogi1()"
   ]
  },
  {
   "cell_type": "code",
   "execution_count": 52,
   "id": "188bd094",
   "metadata": {},
   "outputs": [],
   "source": [
    "def Jitendrajaiswal():\n",
    "    gross= int(input(\"enter gross amount:\"))\n",
    "    net=(gross/100)*28\n",
    "    deduction=gross-net\n",
    "    pc=deduction*0.005\n",
    "    result=pc\n",
    "    print(f\" PC amount of firm is : {result}\")"
   ]
  },
  {
   "cell_type": "code",
   "execution_count": 51,
   "id": "d73de51f",
   "metadata": {},
   "outputs": [],
   "source": [
    "def Jitendrajaiswal1():\n",
    "    gross= int(input(\"enter gross amount:\"))\n",
    "    net=(gross/100)*33\n",
    "    deduction=gross-net\n",
    "    pc=deduction*0.005\n",
    "    result=pc\n",
    "    print(f\" PC amount of firm is : {result}\")"
   ]
  },
  {
   "cell_type": "code",
   "execution_count": 53,
   "id": "c2a7f725",
   "metadata": {},
   "outputs": [],
   "source": [
    "def Mahendraloswani():\n",
    "    gross= int(input(\"enter gross amount:\"))\n",
    "    net=(gross/100)*28\n",
    "    deduction=gross-net\n",
    "    pc=deduction*0.005\n",
    "    result=pc\n",
    "    print(f\" PC amount of firm is : {result}\")"
   ]
  },
  {
   "cell_type": "code",
   "execution_count": 54,
   "id": "5298c784",
   "metadata": {},
   "outputs": [],
   "source": [
    "def Mahendraloswani1():\n",
    "    gross= int(input(\"enter gross amount:\"))\n",
    "    net=(gross/100)*33\n",
    "    deduction=gross-net\n",
    "    pc=deduction*0.005\n",
    "    result=pc\n",
    "    print(f\" PC amount of firm is : {result}\")"
   ]
  },
  {
   "cell_type": "code",
   "execution_count": 55,
   "id": "84ded12f",
   "metadata": {},
   "outputs": [],
   "source": [
    "def Shrienterprises():\n",
    "    gross= int(input(\"enter gross amount:\"))\n",
    "    net=(gross/100)*28\n",
    "    deduction=gross-net\n",
    "    pc=deduction*0.007\n",
    "    result=pc\n",
    "    print(f\" PC amount of firm is : {result}\")"
   ]
  },
  {
   "cell_type": "code",
   "execution_count": 56,
   "id": "89866efa",
   "metadata": {},
   "outputs": [],
   "source": [
    "def Shrienterprises1():\n",
    "    gross= int(input(\"enter gross amount:\"))\n",
    "    net=(gross/100)*33\n",
    "    deduction=gross-net\n",
    "    pc=deduction*0.007\n",
    "    result=pc\n",
    "    print(f\" PC amount of firm is : {result}\")"
   ]
  },
  {
   "cell_type": "code",
   "execution_count": 57,
   "id": "be44f81e",
   "metadata": {},
   "outputs": [],
   "source": [
    "def Omsati():\n",
    "    gross= int(input(\"enter gross amount:\"))\n",
    "    net=(gross/100)*28\n",
    "    deduction=gross-net\n",
    "    pc=deduction*0.005\n",
    "    result=pc\n",
    "    print(f\" PC amount of firm is : {result}\")"
   ]
  },
  {
   "cell_type": "code",
   "execution_count": 58,
   "id": "e215c0db",
   "metadata": {},
   "outputs": [],
   "source": [
    "def Omsati1():\n",
    "    gross= int(input(\"enter gross amount:\"))\n",
    "    net=(gross/100)*33\n",
    "    deduction=gross-net\n",
    "    pc=deduction*0.005\n",
    "    result=pc\n",
    "    print(f\" PC amount of firm is : {result}\")"
   ]
  },
  {
   "cell_type": "code",
   "execution_count": 59,
   "id": "82793e86",
   "metadata": {},
   "outputs": [],
   "source": [
    "def Shivansh():\n",
    "    gross= int(input(\"enter gross amount:\"))\n",
    "    net=(gross/100)*28\n",
    "    deduction=gross-net\n",
    "    pc=deduction*0.005\n",
    "    result=pc\n",
    "    print(f\" PC amount of firm is : {result}\")"
   ]
  },
  {
   "cell_type": "code",
   "execution_count": 62,
   "id": "596f4771",
   "metadata": {},
   "outputs": [],
   "source": [
    "def Shivansh1():\n",
    "    gross= int(input(\"enter gross amount:\"))\n",
    "    net=(gross/100)*33\n",
    "    deduction=gross-net\n",
    "    pc=deduction*0.005\n",
    "    result=pc\n",
    "    print(f\" PC amount of firm is : {result}\")"
   ]
  },
  {
   "cell_type": "code",
   "execution_count": 9,
   "id": "569c38d0",
   "metadata": {},
   "outputs": [],
   "source": [
    "def Hiramai():\n",
    "    gross= int(input(\"enter gross amount:\"))\n",
    "    net=(gross/100)*28\n",
    "    deduction=gross-net\n",
    "    pc=deduction*0.004\n",
    "    result=pc\n",
    "    print(f\" PC amount of firm is : {result}\")"
   ]
  },
  {
   "cell_type": "code",
   "execution_count": 10,
   "id": "35b8027c",
   "metadata": {},
   "outputs": [],
   "source": [
    "def Hiramai1():\n",
    "    gross= int(input(\"enter gross amount:\"))\n",
    "    net=(gross/100)*33\n",
    "    deduction=gross-net\n",
    "    pc=deduction*0.004\n",
    "    result=pc\n",
    "    print(f\" PC amount of firm is : {result}\")"
   ]
  },
  {
   "cell_type": "code",
   "execution_count": 64,
   "id": "9c2113c7",
   "metadata": {},
   "outputs": [],
   "source": [
    "def Corporation():\n",
    "    gross= int(input(\"enter gross amount:\"))\n",
    "    net=(gross/100)*33\n",
    "    deduction=gross-net\n",
    "    pc=deduction*0.0075\n",
    "    result=pc\n",
    "    print(f\" PC amount of firm is : {result}\")"
   ]
  },
  {
   "cell_type": "code",
   "execution_count": 65,
   "id": "e642fbc1",
   "metadata": {},
   "outputs": [],
   "source": [
    "def Corporation1():\n",
    "    gross= int(input(\"enter gross amount:\"))\n",
    "    net=(gross/100)*33\n",
    "    deduction=gross-net\n",
    "    pc=deduction*0.0075\n",
    "    result=pc\n",
    "    print(f\" PC amount of firm is : {result}\")"
   ]
  },
  {
   "cell_type": "code",
   "execution_count": 66,
   "id": "4d6234f5",
   "metadata": {},
   "outputs": [
    {
     "name": "stdout",
     "output_type": "stream",
     "text": [
      "enter gross amount:105093515\n",
      " PC amount of firm is : 281650.62020000006\n"
     ]
    }
   ],
   "source": [
    "Hiramai1()"
   ]
  },
  {
   "cell_type": "code",
   "execution_count": 67,
   "id": "258c20b1",
   "metadata": {},
   "outputs": [],
   "source": [
    "def Abhed():\n",
    "    gross= int(input(\"enter gross amount:\"))\n",
    "    net=(gross/100)*28\n",
    "    deduction=gross-net\n",
    "    pc=deduction*0.01\n",
    "    result=pc\n",
    "    print(f\" PC amount of firm is : {result}\")"
   ]
  },
  {
   "cell_type": "code",
   "execution_count": 9,
   "id": "71986c64",
   "metadata": {},
   "outputs": [],
   "source": [
    "def Abhed1():\n",
    "    gross= int(input(\"enter gross amount:\"))\n",
    "    net=(gross/100)*33\n",
    "    deduction=gross-net\n",
    "    pc=deduction*0.01\n",
    "    result=pc\n",
    "    print(f\" PC amount of firm is : {result}\")"
   ]
  },
  {
   "cell_type": "code",
   "execution_count": null,
   "id": "1ff0772d",
   "metadata": {},
   "outputs": [],
   "source": [
    "Abhed1()"
   ]
  },
  {
   "cell_type": "code",
   "execution_count": 70,
   "id": "5958d339",
   "metadata": {},
   "outputs": [
    {
     "name": "stdout",
     "output_type": "stream",
     "text": [
      "enter gross amount:34429842\n",
      " PC amount of firm is : 230679.9414\n"
     ]
    }
   ],
   "source": [
    "Abhed1()"
   ]
  },
  {
   "cell_type": "code",
   "execution_count": 78,
   "id": "229d88bf",
   "metadata": {},
   "outputs": [],
   "source": [
    "def Balajidharampuri():\n",
    "    gross= int(input(\"enter gross amount:\"))\n",
    "    net=(gross/100)*28\n",
    "    deduction=gross-net\n",
    "    pc=deduction*0.004\n",
    "    result=pc\n",
    "    print(f\" PC amount of firm is : {result}\")"
   ]
  },
  {
   "cell_type": "code",
   "execution_count": 74,
   "id": "176c3295",
   "metadata": {},
   "outputs": [],
   "source": [
    "def Balajidharampuri1():\n",
    "    gross= int(input(\"enter gross amount:\"))\n",
    "    net=(gross/100)*33\n",
    "    deduction=gross-net\n",
    "    pc=deduction*0.004\n",
    "    result=pc\n",
    "    print(f\" PC amount of firm is : {result}\")"
   ]
  },
  {
   "cell_type": "code",
   "execution_count": 79,
   "id": "3a0a9885",
   "metadata": {},
   "outputs": [
    {
     "name": "stdout",
     "output_type": "stream",
     "text": [
      "enter gross amount:23118583\n",
      " PC amount of firm is : 66581.51904000001\n"
     ]
    }
   ],
   "source": [
    "Balajidharampuri()\n"
   ]
  },
  {
   "cell_type": "code",
   "execution_count": 80,
   "id": "8d9bdc19",
   "metadata": {},
   "outputs": [
    {
     "name": "stdout",
     "output_type": "stream",
     "text": [
      "enter gross amount:73094092\n",
      " PC amount of firm is : 210510.98495999997\n"
     ]
    }
   ],
   "source": [
    "Hiramai()"
   ]
  },
  {
   "cell_type": "code",
   "execution_count": 81,
   "id": "4f2c5a31",
   "metadata": {},
   "outputs": [
    {
     "name": "stdout",
     "output_type": "stream",
     "text": [
      "enter gross amount:9403053\n",
      " PC amount of firm is : 33850.9908\n"
     ]
    }
   ],
   "source": [
    "Jitendrajaiswal()\n"
   ]
  },
  {
   "cell_type": "code",
   "execution_count": 82,
   "id": "246dcfac",
   "metadata": {},
   "outputs": [],
   "source": [
    "def Ganesh():\n",
    "    gross= int(input(\"enter gross amount:\"))\n",
    "    net=(gross/100)*28\n",
    "    deduction=gross-net\n",
    "    pc=deduction*0.007\n",
    "    result=pc\n",
    "    print(f\" PC amount of firm is : {result}\")"
   ]
  },
  {
   "cell_type": "code",
   "execution_count": 83,
   "id": "1ceb46bf",
   "metadata": {},
   "outputs": [],
   "source": [
    "def Ganesh1():\n",
    "    gross= int(input(\"enter gross amount:\"))\n",
    "    net=(gross/100)*33\n",
    "    deduction=gross-net\n",
    "    pc=deduction*0.007\n",
    "    result=pc\n",
    "    print(f\" PC amount of firm is : {result}\")"
   ]
  },
  {
   "cell_type": "code",
   "execution_count": 84,
   "id": "4a0c1309",
   "metadata": {},
   "outputs": [
    {
     "name": "stdout",
     "output_type": "stream",
     "text": [
      "enter gross amount:2901074\n",
      " PC amount of firm is : 14621.41296\n"
     ]
    }
   ],
   "source": [
    "Ganesh()"
   ]
  },
  {
   "cell_type": "code",
   "execution_count": 85,
   "id": "55392d59",
   "metadata": {},
   "outputs": [],
   "source": [
    "def Radhika():\n",
    "    gross= int(input(\"enter gross amount:\"))\n",
    "    net=(gross/100)*28\n",
    "    deduction=gross-net\n",
    "    pc=deduction*0.0075\n",
    "    result=pc\n",
    "    print(f\" PC amount of firm is : {result}\")"
   ]
  },
  {
   "cell_type": "code",
   "execution_count": 86,
   "id": "d065000c",
   "metadata": {},
   "outputs": [],
   "source": [
    "def Radhika1():\n",
    "    gross= int(input(\"enter gross amount:\"))\n",
    "    net=(gross/100)*33\n",
    "    deduction=gross-net\n",
    "    pc=deduction*0.0075\n",
    "    result=pc\n",
    "    print(f\" PC amount of firm is : {result}\")"
   ]
  },
  {
   "cell_type": "code",
   "execution_count": 87,
   "id": "0a780547",
   "metadata": {},
   "outputs": [
    {
     "name": "stdout",
     "output_type": "stream",
     "text": [
      "enter gross amount:6319919\n",
      " PC amount of firm is : 34127.5626\n"
     ]
    }
   ],
   "source": [
    "Radhika()\n"
   ]
  },
  {
   "cell_type": "code",
   "execution_count": 88,
   "id": "b9e54ba3",
   "metadata": {},
   "outputs": [
    {
     "name": "stdout",
     "output_type": "stream",
     "text": [
      "enter gross amount:11654976\n",
      " PC amount of firm is : 83915.82720000001\n"
     ]
    }
   ],
   "source": [
    "Abhed()"
   ]
  },
  {
   "cell_type": "code",
   "execution_count": 94,
   "id": "5ad7d366",
   "metadata": {},
   "outputs": [
    {
     "name": "stdout",
     "output_type": "stream",
     "text": [
      "enter gross amount:35448768\n",
      " PC amount of firm is : 127615.56480000001\n"
     ]
    }
   ],
   "source": [
    "Omsati()"
   ]
  },
  {
   "cell_type": "code",
   "execution_count": 95,
   "id": "96e2c3bb",
   "metadata": {},
   "outputs": [
    {
     "name": "stdout",
     "output_type": "stream",
     "text": [
      "enter gross amount:35448768\n",
      " PC amount of firm is : 118753.37280000001\n"
     ]
    }
   ],
   "source": [
    "Omsati1()"
   ]
  },
  {
   "cell_type": "code",
   "execution_count": 98,
   "id": "35f7a592",
   "metadata": {},
   "outputs": [
    {
     "name": "stdout",
     "output_type": "stream",
     "text": [
      "enter gross amount:42058752\n",
      " PC amount of firm is : 227117.26079999996\n"
     ]
    }
   ],
   "source": [
    "Navadiya()"
   ]
  },
  {
   "cell_type": "code",
   "execution_count": 99,
   "id": "71034f8a",
   "metadata": {},
   "outputs": [
    {
     "name": "stdout",
     "output_type": "stream",
     "text": [
      "enter gross amount:42058752\n",
      " PC amount of firm is : 211345.22879999998\n"
     ]
    }
   ],
   "source": [
    "Navadiya1()"
   ]
  },
  {
   "cell_type": "code",
   "execution_count": 100,
   "id": "dca8e289",
   "metadata": {},
   "outputs": [
    {
     "name": "stdout",
     "output_type": "stream",
     "text": [
      "enter gross amount:23896716\n",
      " PC amount of firm is : 120080.99789999999\n"
     ]
    }
   ],
   "source": [
    "Navadiya1()"
   ]
  },
  {
   "cell_type": "code",
   "execution_count": 105,
   "id": "2b2d8ed6",
   "metadata": {},
   "outputs": [
    {
     "name": "stdout",
     "output_type": "stream",
     "text": [
      "enter gross amount:9308655\n",
      " PC amount of firm is : 46775.991375\n"
     ]
    }
   ],
   "source": [
    "Navadiya1()"
   ]
  },
  {
   "cell_type": "code",
   "execution_count": 106,
   "id": "d10ff875",
   "metadata": {},
   "outputs": [
    {
     "name": "stdout",
     "output_type": "stream",
     "text": [
      "enter gross amount:3221530\n",
      " PC amount of firm is : 15108.9757\n"
     ]
    }
   ],
   "source": [
    "Shiriram1()"
   ]
  },
  {
   "cell_type": "code",
   "execution_count": 118,
   "id": "1edb37d3",
   "metadata": {},
   "outputs": [],
   "source": [
    "def Sawariya():\n",
    "    gross= int(input(\"enter gross amount:\"))\n",
    "    net=(gross/100)*28\n",
    "    deduction=gross-net\n",
    "    pc=deduction*0.005\n",
    "    result=pc\n",
    "    print(f\" PC amount of firm is : {result}\")"
   ]
  },
  {
   "cell_type": "code",
   "execution_count": 116,
   "id": "77564c0f",
   "metadata": {},
   "outputs": [],
   "source": [
    "def Sawariya1():\n",
    "    gross= int(input(\"enter gross amount:\"))\n",
    "    net=(gross/100)*33\n",
    "    deduction=gross-net\n",
    "    pc=deduction*0.005\n",
    "    result=pc\n",
    "    print(f\" PC amount of firm is : {result}\")"
   ]
  },
  {
   "cell_type": "code",
   "execution_count": 117,
   "id": "e774f9c0",
   "metadata": {},
   "outputs": [
    {
     "name": "stdout",
     "output_type": "stream",
     "text": [
      "enter gross amount:21720715\n",
      " PC amount of firm is : 109472.4036\n"
     ]
    }
   ],
   "source": [
    "Sawariya()"
   ]
  },
  {
   "cell_type": "code",
   "execution_count": 2,
   "id": "71ea1e38",
   "metadata": {},
   "outputs": [
    {
     "ename": "NameError",
     "evalue": "name 'Hiramai' is not defined",
     "output_type": "error",
     "traceback": [
      "\u001b[1;31m---------------------------------------------------------------------------\u001b[0m",
      "\u001b[1;31mNameError\u001b[0m                                 Traceback (most recent call last)",
      "Cell \u001b[1;32mIn[2], line 1\u001b[0m\n\u001b[1;32m----> 1\u001b[0m Hiramai()\n",
      "\u001b[1;31mNameError\u001b[0m: name 'Hiramai' is not defined"
     ]
    }
   ],
   "source": [
    "Hiramai()"
   ]
  },
  {
   "cell_type": "code",
   "execution_count": 8,
   "id": "2d48bb6b",
   "metadata": {},
   "outputs": [
    {
     "ename": "NameError",
     "evalue": "name 'Hiramai' is not defined",
     "output_type": "error",
     "traceback": [
      "\u001b[1;31m---------------------------------------------------------------------------\u001b[0m",
      "\u001b[1;31mNameError\u001b[0m                                 Traceback (most recent call last)",
      "Cell \u001b[1;32mIn[8], line 1\u001b[0m\n\u001b[1;32m----> 1\u001b[0m Hiramai()\n",
      "\u001b[1;31mNameError\u001b[0m: name 'Hiramai' is not defined"
     ]
    }
   ],
   "source": [
    "Hiramai()"
   ]
  },
  {
   "cell_type": "code",
   "execution_count": 12,
   "id": "ebf779de",
   "metadata": {},
   "outputs": [
    {
     "name": "stdout",
     "output_type": "stream",
     "text": [
      "enter gross amount:156542564\n",
      " PC amount of firm is : 419534.07152\n"
     ]
    }
   ],
   "source": [
    "Hiramai1()"
   ]
  },
  {
   "cell_type": "code",
   "execution_count": 14,
   "id": "5a62c10f",
   "metadata": {},
   "outputs": [
    {
     "ename": "NameError",
     "evalue": "name 'Abhed' is not defined",
     "output_type": "error",
     "traceback": [
      "\u001b[1;31m---------------------------------------------------------------------------\u001b[0m",
      "\u001b[1;31mNameError\u001b[0m                                 Traceback (most recent call last)",
      "Cell \u001b[1;32mIn[14], line 1\u001b[0m\n\u001b[1;32m----> 1\u001b[0m Abhed()\n",
      "\u001b[1;31mNameError\u001b[0m: name 'Abhed' is not defined"
     ]
    }
   ],
   "source": [
    "Abhed()"
   ]
  },
  {
   "cell_type": "code",
   "execution_count": 3,
   "id": "c1fdda1c",
   "metadata": {},
   "outputs": [
    {
     "ename": "SyntaxError",
     "evalue": "incomplete input (3121827129.py, line 1)",
     "output_type": "error",
     "traceback": [
      "\u001b[1;36m  Cell \u001b[1;32mIn[3], line 1\u001b[1;36m\u001b[0m\n\u001b[1;33m    def Yogi1():\u001b[0m\n\u001b[1;37m                ^\u001b[0m\n\u001b[1;31mSyntaxError\u001b[0m\u001b[1;31m:\u001b[0m incomplete input\n"
     ]
    }
   ],
   "source": [
    "def Yogi1():"
   ]
  },
  {
   "cell_type": "code",
   "execution_count": 7,
   "id": "64e91aef",
   "metadata": {},
   "outputs": [
    {
     "name": "stdout",
     "output_type": "stream",
     "text": [
      "enter gross amount:14971962\n",
      " PC amount of firm is : 80249.71631999999\n"
     ]
    }
   ],
   "source": [
    "Yogi1()"
   ]
  },
  {
   "cell_type": "code",
   "execution_count": 8,
   "id": "e876ad24",
   "metadata": {},
   "outputs": [
    {
     "ename": "NameError",
     "evalue": "name 'Abhed1' is not defined",
     "output_type": "error",
     "traceback": [
      "\u001b[1;31m---------------------------------------------------------------------------\u001b[0m",
      "\u001b[1;31mNameError\u001b[0m                                 Traceback (most recent call last)",
      "Cell \u001b[1;32mIn[8], line 1\u001b[0m\n\u001b[1;32m----> 1\u001b[0m Abhed1()\n",
      "\u001b[1;31mNameError\u001b[0m: name 'Abhed1' is not defined"
     ]
    }
   ],
   "source": [
    "Abhed1()"
   ]
  },
  {
   "cell_type": "code",
   "execution_count": null,
   "id": "1bf5149e",
   "metadata": {},
   "outputs": [],
   "source": []
  }
 ],
 "metadata": {
  "kernelspec": {
   "display_name": "Python 3 (ipykernel)",
   "language": "python",
   "name": "python3"
  },
  "language_info": {
   "codemirror_mode": {
    "name": "ipython",
    "version": 3
   },
   "file_extension": ".py",
   "mimetype": "text/x-python",
   "name": "python",
   "nbconvert_exporter": "python",
   "pygments_lexer": "ipython3",
   "version": "3.11.5"
  }
 },
 "nbformat": 4,
 "nbformat_minor": 5
}
